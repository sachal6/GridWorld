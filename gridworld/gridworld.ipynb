{
 "cells": [
  {
   "cell_type": "code",
   "execution_count": 11,
   "metadata": {},
   "outputs": [],
   "source": [
    "from gym import Env, spaces\n",
    "import numpy as np\n",
    "import random"
   ]
  },
  {
   "cell_type": "code",
   "execution_count": 12,
   "metadata": {},
   "outputs": [],
   "source": [
    "class GridWorld(Env):\n",
    "\n",
    "    MAX_TRAJECTORY_LENGTH = 9\n",
    "    \n",
    "    def __init__(self, rewards):\n",
    "        self.rewards = rewards\n",
    "        self.action_space = spaces.Discrete(4)\n",
    "        self.action_directions = {\n",
    "            0 : np.array([1,0]), # N\n",
    "            1 : np.array([0,1]), # E\n",
    "            2 : np.array([-1,0]), # S\n",
    "            3 : np.array([0,-1]) # W\n",
    "        }\n",
    "        self.reset()\n",
    "    \n",
    "    def _get_action(self, action):\n",
    "        return self.action_directions[int(action)]\n",
    "    \n",
    "    def _get_next_location_reward(self, action):\n",
    "        next_location = self.current_position+self._get_action(action)\n",
    "        if not is_valid(next_location):\n",
    "            return self.current_location.copy(), -1\n",
    "        else:\n",
    "            return next_location, self.rewards[next_location]\n",
    "            \n",
    "    def is_valid(location):\n",
    "        x,y = location\n",
    "        if x>=0 and y>=0 and x<len(self.rewards) and y<len(self.rewards[0]):\n",
    "            return True\n",
    "        return False\n",
    "    \n",
    "    def step(self, action):\n",
    "        done = False\n",
    "        if self.trajectory_size>MAX_TRAJECTORY_LENGTH:\n",
    "            done = True    \n",
    "        next_location, reward = self.__get_next_location_reward(action)\n",
    "        info = None\n",
    "        self.trajectory_size+=1        \n",
    "        return next_location, reward, done, info\n",
    "    \n",
    "    def reset(self):\n",
    "        x_pos = np.random.randint(len(self.rewards))\n",
    "        y_pos = np.random.randint(len(self.rewards[0]))\n",
    "        self.current_position = np.array([x_pos, y_pos])\n",
    "        self.trajectory_size = 0\n",
    "        return self.current_position\n",
    "    \n",
    "    def seed(self, seed=42):\n",
    "        np.random.seed(seed)\n",
    "        return [seed]\n",
    "    \n",
    "    def render(self):\n",
    "        pass\n",
    "    \n",
    "    def close(self):\n",
    "        pass\n",
    "        \n",
    "        "
   ]
  },
  {
   "cell_type": "code",
   "execution_count": 13,
   "metadata": {},
   "outputs": [
    {
     "data": {
      "text/plain": [
       "['MAX_TRAJECTORY_LENGTH',\n",
       " '__class__',\n",
       " '__delattr__',\n",
       " '__dict__',\n",
       " '__dir__',\n",
       " '__doc__',\n",
       " '__enter__',\n",
       " '__eq__',\n",
       " '__exit__',\n",
       " '__format__',\n",
       " '__ge__',\n",
       " '__getattribute__',\n",
       " '__gt__',\n",
       " '__hash__',\n",
       " '__init__',\n",
       " '__init_subclass__',\n",
       " '__le__',\n",
       " '__lt__',\n",
       " '__module__',\n",
       " '__ne__',\n",
       " '__new__',\n",
       " '__reduce__',\n",
       " '__reduce_ex__',\n",
       " '__repr__',\n",
       " '__setattr__',\n",
       " '__sizeof__',\n",
       " '__str__',\n",
       " '__subclasshook__',\n",
       " '__weakref__',\n",
       " '_get_action',\n",
       " '_get_next_location_reward',\n",
       " 'action_directions',\n",
       " 'action_space',\n",
       " 'close',\n",
       " 'current_position',\n",
       " 'is_valid',\n",
       " 'metadata',\n",
       " 'observation_space',\n",
       " 'render',\n",
       " 'reset',\n",
       " 'reward_range',\n",
       " 'rewards',\n",
       " 'seed',\n",
       " 'spec',\n",
       " 'step',\n",
       " 'trajectory_size',\n",
       " 'unwrapped']"
      ]
     },
     "execution_count": 13,
     "metadata": {},
     "output_type": "execute_result"
    }
   ],
   "source": [
    "x = GridWorld(np.random.random((5,5)))"
   ]
  },
  {
   "cell_type": "code",
   "execution_count": null,
   "metadata": {},
   "outputs": [],
   "source": []
  }
 ],
 "metadata": {
  "kernelspec": {
   "display_name": "Python 3",
   "language": "python",
   "name": "python3"
  },
  "language_info": {
   "codemirror_mode": {
    "name": "ipython",
    "version": 3
   },
   "file_extension": ".py",
   "mimetype": "text/x-python",
   "name": "python",
   "nbconvert_exporter": "python",
   "pygments_lexer": "ipython3",
   "version": "3.7.6"
  }
 },
 "nbformat": 4,
 "nbformat_minor": 4
}
